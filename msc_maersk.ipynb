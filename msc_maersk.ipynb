{
 "cells": [
  {
   "cell_type": "code",
   "execution_count": 7,
   "id": "62afa3c6",
   "metadata": {},
   "outputs": [],
   "source": [
    "import pandas as pd\n",
    "import pyexasol\n",
    "from dateutil.relativedelta import relativedelta\n",
    "from datetime import datetime\n",
    "import re\n",
    "import os"
   ]
  },
  {
   "cell_type": "code",
   "execution_count": 8,
   "id": "63a45081",
   "metadata": {},
   "outputs": [],
   "source": [
    "import json\n",
    "import re\n",
    "import requests"
   ]
  },
  {
   "cell_type": "code",
   "execution_count": 9,
   "id": "7b291dc6",
   "metadata": {},
   "outputs": [],
   "source": [
    "import feedparser"
   ]
  },
  {
   "cell_type": "code",
   "execution_count": 17,
   "id": "d8e9665e",
   "metadata": {},
   "outputs": [],
   "source": [
    "response = requests.get(\"https://api.maerskline.com/track/MNBU0217324?operator=maeu\")"
   ]
  },
  {
   "cell_type": "code",
   "execution_count": 18,
   "id": "5f64b0bf",
   "metadata": {},
   "outputs": [],
   "source": [
    "json_content = response.json()"
   ]
  },
  {
   "cell_type": "code",
   "execution_count": 23,
   "id": "9158c981",
   "metadata": {},
   "outputs": [],
   "source": [
    "dict_maersk = {feature:list() for feature in ['terminal','activity','date','expected']}\n",
    "for entry in json_content['containers'][0]['locations']:\n",
    "#    dict_maersk['terminal'].append(entry['terminal'])\n",
    "#    dict_maersk['activity'].append(entry['terminal']['events'][0])\n",
    "    dict_maersk['terminal'].append(entry['terminal'])\n",
    "    dict_maersk['activity'].append(entry['events'][0]['activity'])\n",
    "    try:\n",
    "        dict_maersk['date'].append(entry['events'][0]['actual_time'])\n",
    "    except:\n",
    "        dict_maersk['date'].append(\"NA\")\n",
    "    try:\n",
    "        dict_maersk['expected'].append(entry['events'][0]['expected_time'])\n",
    "    except:\n",
    "        dict_maersk['expected'].append(\"NA\")"
   ]
  },
  {
   "cell_type": "code",
   "execution_count": 24,
   "id": "f14002f6",
   "metadata": {},
   "outputs": [
    {
     "data": {
      "text/html": [
       "<div>\n",
       "<style scoped>\n",
       "    .dataframe tbody tr th:only-of-type {\n",
       "        vertical-align: middle;\n",
       "    }\n",
       "\n",
       "    .dataframe tbody tr th {\n",
       "        vertical-align: top;\n",
       "    }\n",
       "\n",
       "    .dataframe thead th {\n",
       "        text-align: right;\n",
       "    }\n",
       "</style>\n",
       "<table border=\"1\" class=\"dataframe\">\n",
       "  <thead>\n",
       "    <tr style=\"text-align: right;\">\n",
       "      <th></th>\n",
       "      <th>terminal</th>\n",
       "      <th>activity</th>\n",
       "      <th>date</th>\n",
       "      <th>expected</th>\n",
       "    </tr>\n",
       "  </thead>\n",
       "  <tbody>\n",
       "    <tr>\n",
       "      <th>0</th>\n",
       "      <td>APMT EMR</td>\n",
       "      <td>GATE-OUT-EMPTY</td>\n",
       "      <td>2022-04-28T17:21:00.000</td>\n",
       "      <td>NA</td>\n",
       "    </tr>\n",
       "    <tr>\n",
       "      <th>1</th>\n",
       "      <td>Jawaharlal Nehru NSICT DPW</td>\n",
       "      <td>GATE-IN</td>\n",
       "      <td>2022-05-05T02:44:00.000</td>\n",
       "      <td>2022-05-08T19:30:00.000</td>\n",
       "    </tr>\n",
       "    <tr>\n",
       "      <th>2</th>\n",
       "      <td>Algeciras - ML Terminal</td>\n",
       "      <td>DISCHARG</td>\n",
       "      <td>2022-05-22T10:28:00.000</td>\n",
       "      <td>2022-05-22T01:30:00.000</td>\n",
       "    </tr>\n",
       "    <tr>\n",
       "      <th>3</th>\n",
       "      <td>Hutchison Ports Delta II</td>\n",
       "      <td>DISCHARG</td>\n",
       "      <td>2022-06-05T15:29:00.000</td>\n",
       "      <td>2022-06-05T11:00:00.000</td>\n",
       "    </tr>\n",
       "    <tr>\n",
       "      <th>4</th>\n",
       "      <td>Montreal Cast Terminal 395, 2425</td>\n",
       "      <td>DISCHARG</td>\n",
       "      <td>NA</td>\n",
       "      <td>2022-06-27T06:00:00.000</td>\n",
       "    </tr>\n",
       "  </tbody>\n",
       "</table>\n",
       "</div>"
      ],
      "text/plain": [
       "                           terminal        activity                     date  \\\n",
       "0                          APMT EMR  GATE-OUT-EMPTY  2022-04-28T17:21:00.000   \n",
       "1        Jawaharlal Nehru NSICT DPW         GATE-IN  2022-05-05T02:44:00.000   \n",
       "2           Algeciras - ML Terminal        DISCHARG  2022-05-22T10:28:00.000   \n",
       "3          Hutchison Ports Delta II        DISCHARG  2022-06-05T15:29:00.000   \n",
       "4  Montreal Cast Terminal 395, 2425        DISCHARG                       NA   \n",
       "\n",
       "                  expected  \n",
       "0                       NA  \n",
       "1  2022-05-08T19:30:00.000  \n",
       "2  2022-05-22T01:30:00.000  \n",
       "3  2022-06-05T11:00:00.000  \n",
       "4  2022-06-27T06:00:00.000  "
      ]
     },
     "execution_count": 24,
     "metadata": {},
     "output_type": "execute_result"
    }
   ],
   "source": [
    "df = pd.DataFrame(dict_maersk)\n",
    "df"
   ]
  },
  {
   "cell_type": "code",
   "execution_count": null,
   "id": "fc430fde",
   "metadata": {},
   "outputs": [],
   "source": [
    "import streamplit as st"
   ]
  }
 ],
 "metadata": {
  "kernelspec": {
   "display_name": "Python 3 (ipykernel)",
   "language": "python",
   "name": "python3"
  },
  "language_info": {
   "codemirror_mode": {
    "name": "ipython",
    "version": 3
   },
   "file_extension": ".py",
   "mimetype": "text/x-python",
   "name": "python",
   "nbconvert_exporter": "python",
   "pygments_lexer": "ipython3",
   "version": "3.8.12"
  }
 },
 "nbformat": 4,
 "nbformat_minor": 5
}
